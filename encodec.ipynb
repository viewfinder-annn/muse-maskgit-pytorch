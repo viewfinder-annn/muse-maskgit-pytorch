{
 "cells": [
  {
   "cell_type": "code",
   "execution_count": 2,
   "metadata": {},
   "outputs": [
    {
     "name": "stdout",
     "output_type": "stream",
     "text": [
      "[2024-07-13 19:26:19] Sing2SongDataset.__init__()\n",
      "[2024-07-13 19:26:19] metadata loaded, 100 samples\n",
      "[2024-07-13 19:26:19] Dataset loaded, 10 samples\n",
      "torch.Size([320000]) torch.Size([320000])\n",
      "torch.Size([1, 1, 4, 500])\n",
      "torch.Size([1, 1, 320000])\n"
     ]
    }
   ],
   "source": [
    "import os\n",
    "os.environ[\"HF_ENDPOINT\"] = \"https://hf-mirror.com\"\n",
    "\n",
    "from transformers import EncodecModel, AutoProcessor\n",
    "import torchaudio\n",
    "import torch\n",
    "\n",
    "# load the model + processor (for pre-processing the audio)\n",
    "model = EncodecModel.from_pretrained(\"facebook/encodec_32khz\")\n",
    "\n",
    "from dataset.sing2song_dataset import Sing2SongDataset\n",
    "dataset = Sing2SongDataset([\"/mnt/data2/zhangjunan/sing2song_challenge/netease/dataset/chinese_short/test.json\"], num_samples=10, seq_len=10, sr=32000)\n",
    "\n",
    "for (self_wav, ref_wav) in dataset:\n",
    "    print(self_wav.shape, ref_wav.shape)\n",
    "    self_wav = self_wav.unsqueeze(0)\n",
    "    self_wav = self_wav.unsqueeze(0)\n",
    "    codes = model.encode(self_wav)\n",
    "    print(codes.audio_codes.shape)\n",
    "    audio_scales = [None] * codes.audio_codes.shape[1]\n",
    "    reconstructed_audio = model.decode(codes.audio_codes, audio_scales)\n",
    "    print(reconstructed_audio.audio_values.shape)\n",
    "    dst = './dataset/test_audio/'\n",
    "    torchaudio.save(f\"{dst}/_reconstructed_audio.wav\", reconstructed_audio.audio_values.squeeze(0), 32000)\n",
    "    torchaudio.save(f\"{dst}/_self_audio.wav\", self_wav.squeeze(0), 32000)\n",
    "    break\n"
   ]
  }
 ],
 "metadata": {
  "kernelspec": {
   "display_name": "maskgit",
   "language": "python",
   "name": "python3"
  },
  "language_info": {
   "codemirror_mode": {
    "name": "ipython",
    "version": 3
   },
   "file_extension": ".py",
   "mimetype": "text/x-python",
   "name": "python",
   "nbconvert_exporter": "python",
   "pygments_lexer": "ipython3",
   "version": "3.9.19"
  }
 },
 "nbformat": 4,
 "nbformat_minor": 2
}
