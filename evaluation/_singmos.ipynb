{
 "cells": [
  {
   "cell_type": "code",
   "execution_count": 2,
   "metadata": {},
   "outputs": [
    {
     "name": "stdout",
     "output_type": "stream",
     "text": [
      "masksr-singing\n"
     ]
    },
    {
     "name": "stderr",
     "output_type": "stream",
     "text": [
      "Using cache found in /mnt/workspace/zhangjunan/.cache/torch/hub/South-Twilight_SingMOS_v0.1.0\n",
      "2024-07-15 23:47:04 | INFO | fairseq.tasks.text_to_speech | Please install tensorboardX: pip install tensorboardX\n",
      "/usr/local/anaconda3/envs/maskgit/lib/python3.9/site-packages/torch/nn/utils/weight_norm.py:28: UserWarning: torch.nn.utils.weight_norm is deprecated in favor of torch.nn.utils.parametrizations.weight_norm.\n",
      "  warnings.warn(\"torch.nn.utils.weight_norm is deprecated in favor of torch.nn.utils.parametrizations.weight_norm.\")\n",
      "100%|██████████| 200/200 [01:17<00:00,  2.59it/s]\n"
     ]
    },
    {
     "name": "stdout",
     "output_type": "stream",
     "text": [
      "/mnt/data2/zhangjunan/muse-maskgit-pytorch/exp/singing-55M-20240713-03:40/infer/epoch-83-step-275000-loss-3.852493199014664/20240715-22:47:23/enhanced_16000\n",
      "[original]\tmean: 3.375, std: 0.428\n",
      "[normalized]\tmean: 3.387, std: 0.424\n",
      "frcrn\n"
     ]
    },
    {
     "name": "stderr",
     "output_type": "stream",
     "text": [
      "Using cache found in /mnt/workspace/zhangjunan/.cache/torch/hub/South-Twilight_SingMOS_v0.1.0\n",
      "100%|██████████| 200/200 [01:02<00:00,  3.20it/s]\n"
     ]
    },
    {
     "name": "stdout",
     "output_type": "stream",
     "text": [
      "/mnt/data2/zhangjunan/enhancement/baseline/frcrn/enhanced/singing_unseen\n",
      "[original]\tmean: 2.937, std: 0.704\n",
      "[normalized]\tmean: 3.012, std: 0.71\n",
      "demucs\n"
     ]
    },
    {
     "name": "stderr",
     "output_type": "stream",
     "text": [
      "Using cache found in /mnt/workspace/zhangjunan/.cache/torch/hub/South-Twilight_SingMOS_v0.1.0\n",
      "100%|██████████| 200/200 [01:01<00:00,  3.26it/s]\n"
     ]
    },
    {
     "name": "stdout",
     "output_type": "stream",
     "text": [
      "/mnt/data2/zhangjunan/enhancement/baseline/denoiser/outputs/singing_unseen\n",
      "[original]\tmean: 3.151, std: 0.514\n",
      "[normalized]\tmean: 3.169, std: 0.514\n",
      "gt\n"
     ]
    },
    {
     "name": "stderr",
     "output_type": "stream",
     "text": [
      "Using cache found in /mnt/workspace/zhangjunan/.cache/torch/hub/South-Twilight_SingMOS_v0.1.0\n",
      "100%|██████████| 200/200 [01:10<00:00,  2.85it/s]\n"
     ]
    },
    {
     "name": "stdout",
     "output_type": "stream",
     "text": [
      "/mnt/data2/zhangjunan/enhancement/data/singing_scp/testset_unseen/clean\n",
      "[original]\tmean: 3.478, std: 0.544\n",
      "[normalized]\tmean: 3.489, std: 0.541\n"
     ]
    }
   ],
   "source": [
    "import torch\n",
    "import torchaudio\n",
    "import os\n",
    "\n",
    "from tqdm import tqdm\n",
    "\n",
    "def show_singmos(src):\n",
    "\n",
    "    predictor = torch.hub.load(\"South-Twilight/SingMOS:v0.1.0\", \"singing_ssl_mos\", trust_repo=True)\n",
    "    score_list = []\n",
    "    score_list_normalized = []\n",
    "\n",
    "    for wav in tqdm([os.path.join(src, f) for f in os.listdir(src) if f.endswith(\".wav\")]):\n",
    "        wave, sr = torchaudio.load(wav)\n",
    "        if sr != 16000:\n",
    "            wave = torchaudio.transforms.Resample(sr, 16000)(wave)\n",
    "        score = predictor(wave)\n",
    "        score_list.append(score)\n",
    "        wave_normalized = wave / wave.abs().max()\n",
    "        score_normalized = predictor(wave_normalized)\n",
    "        score_list_normalized.append(score_normalized)\n",
    "\n",
    "    # report mean and std\n",
    "    print(src)\n",
    "    print(f\"[original]\\tmean: {round(torch.tensor(score_list).mean().item(), 3)}, std: {round(torch.tensor(score_list).std().item(), 3)}\")\n",
    "    print(f\"[normalized]\\tmean: {round(torch.tensor(score_list_normalized).mean().item(), 3)}, std: {round(torch.tensor(score_list_normalized).std().item(), 3)}\")\n",
    "\n",
    "print(\"masksr-singing\")\n",
    "show_singmos(\"/mnt/data2/zhangjunan/muse-maskgit-pytorch/exp/singing-55M-20240713-03:40/infer/epoch-83-step-275000-loss-3.852493199014664/20240715-22:47:23/enhanced_16000\")\n",
    "print(\"frcrn\")\n",
    "show_singmos(\"/mnt/data2/zhangjunan/enhancement/baseline/frcrn/enhanced/singing_unseen\")\n",
    "print(\"demucs\")\n",
    "show_singmos(\"/mnt/data2/zhangjunan/enhancement/baseline/denoiser/outputs/singing_unseen\")\n",
    "print(\"gt\")\n",
    "show_singmos(\"/mnt/data2/zhangjunan/enhancement/data/singing_scp/testset_unseen/clean\")"
   ]
  },
  {
   "cell_type": "code",
   "execution_count": 1,
   "metadata": {},
   "outputs": [
    {
     "name": "stdout",
     "output_type": "stream",
     "text": [
      "DNSMOS\n",
      "masksr-singing\n"
     ]
    },
    {
     "name": "stderr",
     "output_type": "stream",
     "text": [
      "100%|██████████| 200/200 [00:00<00:00, 3208.38it/s]\n",
      "200it [00:14, 13.57it/s]\n"
     ]
    },
    {
     "name": "stdout",
     "output_type": "stream",
     "text": [
      "SIG: 3.139\n",
      "BAK: 3.395\n",
      "OVRL: 2.608\n",
      "frcrn\n"
     ]
    },
    {
     "name": "stderr",
     "output_type": "stream",
     "text": [
      "100%|██████████| 200/200 [00:00<00:00, 4087.04it/s]\n",
      "200it [00:13, 14.91it/s]\n"
     ]
    },
    {
     "name": "stdout",
     "output_type": "stream",
     "text": [
      "SIG: 2.409\n",
      "BAK: 2.743\n",
      "OVRL: 2.079\n",
      "demucs\n"
     ]
    },
    {
     "name": "stderr",
     "output_type": "stream",
     "text": [
      "100%|██████████| 200/200 [00:00<00:00, 3604.42it/s]\n",
      "200it [00:13, 15.02it/s]\n"
     ]
    },
    {
     "name": "stdout",
     "output_type": "stream",
     "text": [
      "SIG: 2.684\n",
      "BAK: 3.707\n",
      "OVRL: 2.368\n",
      "gt\n"
     ]
    },
    {
     "name": "stderr",
     "output_type": "stream",
     "text": [
      "100%|██████████| 200/200 [00:00<00:00, 2598.52it/s]\n",
      "200it [00:14, 14.18it/s]\n"
     ]
    },
    {
     "name": "stdout",
     "output_type": "stream",
     "text": [
      "SIG: 3.177\n",
      "BAK: 3.508\n",
      "OVRL: 2.688\n"
     ]
    }
   ],
   "source": [
    "from dnsmos import calculate_dnsmos_score\n",
    "\n",
    "print(\"DNSMOS\")\n",
    "print(\"masksr-singing\")\n",
    "calculate_dnsmos_score(\n",
    "    \"/mnt/data2/zhangjunan/muse-maskgit-pytorch/exp/singing-55M-20240713-03:40/infer/epoch-83-step-275000-loss-3.852493199014664/20240715-22:47:23/enhanced_16000\",\n",
    "    \"/mnt/data2/zhangjunan/muse-maskgit-pytorch/evaluation/DNSMOS\"\n",
    ")\n",
    "print(\"frcrn\")\n",
    "calculate_dnsmos_score(\n",
    "    \"/mnt/data2/zhangjunan/enhancement/baseline/frcrn/enhanced/singing_unseen\",\n",
    "    \"/mnt/data2/zhangjunan/muse-maskgit-pytorch/evaluation/DNSMOS\"\n",
    ")\n",
    "print(\"demucs\")\n",
    "calculate_dnsmos_score(\n",
    "    \"/mnt/data2/zhangjunan/enhancement/baseline/denoiser/outputs/singing_unseen\",\n",
    "    \"/mnt/data2/zhangjunan/muse-maskgit-pytorch/evaluation/DNSMOS\"\n",
    ")\n",
    "print(\"gt\")\n",
    "calculate_dnsmos_score(\n",
    "    \"/mnt/data2/zhangjunan/enhancement/data/singing_scp/testset_unseen/clean\",\n",
    "    \"/mnt/data2/zhangjunan/muse-maskgit-pytorch/evaluation/DNSMOS\"\n",
    ")"
   ]
  }
 ],
 "metadata": {
  "kernelspec": {
   "display_name": "maskgit",
   "language": "python",
   "name": "python3"
  },
  "language_info": {
   "codemirror_mode": {
    "name": "ipython",
    "version": 3
   },
   "file_extension": ".py",
   "mimetype": "text/x-python",
   "name": "python",
   "nbconvert_exporter": "python",
   "pygments_lexer": "ipython3",
   "version": "3.9.19"
  }
 },
 "nbformat": 4,
 "nbformat_minor": 2
}
